{
 "cells": [
  {
   "cell_type": "code",
   "execution_count": 0,
   "metadata": {
    "application/vnd.databricks.v1+cell": {
     "cellMetadata": {
      "byteLimit": 2048000,
      "rowLimit": 10000
     },
     "inputWidgets": {},
     "nuid": "9b309011-8aaf-4ae3-82f9-b9c5f0bc55db",
     "showTitle": false,
     "tableResultSettingsMap": {},
     "title": ""
    }
   },
   "outputs": [],
   "source": [
    "# --- STEP 1: Install Libraries ---\n",
    "%pip install pypdf faiss-cpu openai"
   ]
  },
  {
   "cell_type": "code",
   "execution_count": 0,
   "metadata": {
    "application/vnd.databricks.v1+cell": {
     "cellMetadata": {
      "byteLimit": 2048000,
      "rowLimit": 10000
     },
     "inputWidgets": {},
     "nuid": "334ecc0a-00cb-4dcc-9c2d-563ab4e44e84",
     "showTitle": false,
     "tableResultSettingsMap": {},
     "title": ""
    }
   },
   "outputs": [],
   "source": [
    "# --- STEP 2: Import Libraries ---\n",
    "import os\n",
    "import openai\n",
    "import faiss\n",
    "import numpy as np\n",
    "from langchain.document_loaders import PyPDFLoader\n",
    "from langchain.text_splitter import RecursiveCharacterTextSplitter"
   ]
  },
  {
   "cell_type": "code",
   "execution_count": 0,
   "metadata": {
    "application/vnd.databricks.v1+cell": {
     "cellMetadata": {
      "byteLimit": 2048000,
      "rowLimit": 10000
     },
     "inputWidgets": {},
     "nuid": "06f8ff5c-aa81-429e-9338-9c628a1ece5c",
     "showTitle": false,
     "tableResultSettingsMap": {},
     "title": ""
    }
   },
   "outputs": [],
   "source": [
    "\n",
    "# --- STEP 3: Set OpenAI API Key ---\n",
    "openai_api_key = os.getenv(\"open_ai_key\")\n"
   ]
  },
  {
   "cell_type": "code",
   "execution_count": 0,
   "metadata": {
    "application/vnd.databricks.v1+cell": {
     "cellMetadata": {
      "byteLimit": 2048000,
      "rowLimit": 10000
     },
     "inputWidgets": {},
     "nuid": "262456c7-b077-40eb-a3fb-07cc912aeec6",
     "showTitle": false,
     "tableResultSettingsMap": {},
     "title": ""
    }
   },
   "outputs": [],
   "source": [
    "# --- STEP 2: Import Libraries ---\n",
    "import os\n",
    "import openai\n",
    "import faiss\n",
    "import numpy as np\n",
    "from langchain.document_loaders import PyPDFLoader\n",
    "from langchain.text_splitter import RecursiveCharacterTextSplitter\n",
    "\n",
    "# --- STEP 3: Set OpenAI API Key ---\n",
    "openai.api_key = openai_api_key  # Or set it directly\n",
    "\n",
    "# --- STEP 4: Initialize OpenAI Client ---\n",
    "client = openai.OpenAI(api_key = openai_api_key) #this will use the API key that was set above.\n",
    "\n",
    "# --- STEP 5: Define Embedding Function ---\n",
    "def get_embedding(text, model=\"text-embedding-ada-002\"):\n",
    "    \"\"\"Generates an embedding for the given text using OpenAI Embeddings API.\"\"\"\n",
    "    text = text.replace(\"\\n\", \" \")\n",
    "    response = client.embeddings.create(input=[text], model=model)\n",
    "    return response.data[0].embedding\n",
    "\n",
    "# --- STEP 6: Load PDF Document ---\n",
    "pdf_path = \"UKRI-081020-HRPolicyFramework.pdf\"  # Replace with your PDF path\n",
    "loader = PyPDFLoader(pdf_path)\n",
    "documents = loader.load()\n",
    "\n",
    "# --- STEP 7: Split Document into Chunks ---\n",
    "text_splitter = RecursiveCharacterTextSplitter(chunk_size=1000, chunk_overlap=200)\n",
    "texts = text_splitter.split_documents(documents)\n"
   ]
  },
  {
   "cell_type": "code",
   "execution_count": 0,
   "metadata": {
    "application/vnd.databricks.v1+cell": {
     "cellMetadata": {
      "byteLimit": 2048000,
      "rowLimit": 10000
     },
     "inputWidgets": {},
     "nuid": "011251c1-004b-4f0b-b4eb-c6536ffabfb1",
     "showTitle": false,
     "tableResultSettingsMap": {},
     "title": ""
    }
   },
   "outputs": [],
   "source": [
    "# --- STEP 8: Generate Embeddings and Create FAISS Index ---\n",
    "embeddings_list = [get_embedding(text.page_content) for text in texts]\n",
    "embeddings_array = np.array(embeddings_list).astype('float32')\n",
    "\n",
    "dimension = len(embeddings_array[0])\n",
    "index = faiss.IndexFlatL2(dimension)  # L2 distance for similarity\n",
    "index.add(embeddings_array)\n"
   ]
  },
  {
   "cell_type": "code",
   "execution_count": 0,
   "metadata": {
    "application/vnd.databricks.v1+cell": {
     "cellMetadata": {
      "byteLimit": 2048000,
      "rowLimit": 10000
     },
     "inputWidgets": {},
     "nuid": "bedd0c87-0199-400f-bb3c-5fa2dacc7fab",
     "showTitle": false,
     "tableResultSettingsMap": {},
     "title": ""
    }
   },
   "outputs": [],
   "source": [
    "# Save FAISS Index and Text Chunks\n",
    "import pickle\n",
    "\n",
    "faiss.write_index(index, \"rag_index.faiss\")\n",
    "with open(\"rag_texts.pkl\", \"wb\") as f:\n",
    "    pickle.dump(texts, f)\n",
    "\n",
    "print(\"RAG model saved.\")"
   ]
  },
  {
   "cell_type": "code",
   "execution_count": 0,
   "metadata": {
    "application/vnd.databricks.v1+cell": {
     "cellMetadata": {
      "byteLimit": 2048000,
      "rowLimit": 10000
     },
     "inputWidgets": {},
     "nuid": "4ef83623-78bf-4b4e-89bf-301c813ee0fd",
     "showTitle": false,
     "tableResultSettingsMap": {},
     "title": ""
    }
   },
   "outputs": [],
   "source": [
    "# --- STEP 9: Define Retrieval Function ---\n",
    "def retrieve_similar(query, index, k=4):\n",
    "    \"\"\"Retrieves similar text chunks based on the query.\"\"\"\n",
    "    query_embedding = np.array([get_embedding(query)]).astype('float32')\n",
    "    distances, indices = index.search(query_embedding, k)\n",
    "    return distances, indices\n",
    "\n",
    "# --- STEP 10: Example Query and Retrieval ---\n",
    "query = \"What is the main topic of the document?\"\n",
    "distances, indices = retrieve_similar(query, index)\n"
   ]
  },
  {
   "cell_type": "code",
   "execution_count": 0,
   "metadata": {
    "application/vnd.databricks.v1+cell": {
     "cellMetadata": {
      "byteLimit": 2048000,
      "rowLimit": 10000
     },
     "inputWidgets": {},
     "nuid": "69b2ffd1-b763-40da-90db-a41abd7b7f8d",
     "showTitle": false,
     "tableResultSettingsMap": {},
     "title": ""
    }
   },
   "outputs": [],
   "source": [
    "# --- STEP 11: Print Results --- #see retreivals that will be passed to context window\n",
    "print(f\"Query: {query}\\n\")\n",
    "for i, idx in enumerate(indices[0]):\n",
    "    print(f\"Distance: {distances[0][i]}\")\n",
    "    print(f\"Text: {texts[idx].page_content[:200]}...\\n\")"
   ]
  },
  {
   "cell_type": "code",
   "execution_count": 0,
   "metadata": {
    "application/vnd.databricks.v1+cell": {
     "cellMetadata": {
      "byteLimit": 2048000,
      "rowLimit": 10000
     },
     "inputWidgets": {},
     "nuid": "7cbe761b-d54e-4f2c-9c6b-7e4dcb2a13b8",
     "showTitle": false,
     "tableResultSettingsMap": {},
     "title": ""
    }
   },
   "outputs": [],
   "source": [
    "# --- STEP 10: Define Answer Generation Function ---\n",
    "def generate_answer(query, context):\n",
    "    \"\"\"Generates an answer using the OpenAI Chat Completions API.\"\"\"\n",
    "    prompt = f\"Answer the question based on the context below.\\n\\nContext:\\n{context}\\n\\nQuestion: {query}\\n\\nAnswer:\"\n",
    "    response = client.chat.completions.create(\n",
    "        model=\"gpt-3.5-turbo\",  # Or another suitable chat model\n",
    "        messages=[{\"role\": \"user\", \"content\": prompt}]\n",
    "    )\n",
    "    return response.choices[0].message.content.strip()\n",
    "\n",
    "# --- STEP 11: Question Answering Loop ---\n",
    "while True:\n",
    "    user_question = input(\"Ask a question about the PDF (or type 'exit'): \")\n",
    "    if user_question.lower() == \"exit\":\n",
    "        break\n",
    "\n",
    "    distances, indices = retrieve_similar(user_question, index)\n",
    "\n",
    "    # Combine relevant contexts\n",
    "    context = \"\\n\".join([texts[idx].page_content for idx in indices[0]])\n",
    "\n",
    "    answer = generate_answer(user_question, context)\n",
    "    print(f\"Answer: {answer}\\n\")"
   ]
  },
  {
   "cell_type": "code",
   "execution_count": 0,
   "metadata": {
    "application/vnd.databricks.v1+cell": {
     "cellMetadata": {
      "byteLimit": 2048000,
      "rowLimit": 10000
     },
     "inputWidgets": {},
     "nuid": "bd57b4f4-cf13-4c33-bacf-a4934db4fe8a",
     "showTitle": false,
     "tableResultSettingsMap": {},
     "title": ""
    }
   },
   "outputs": [],
   "source": [
    "import sys\n",
    "print(sys.version)"
   ]
  },
  {
   "cell_type": "code",
   "execution_count": 0,
   "metadata": {
    "application/vnd.databricks.v1+cell": {
     "cellMetadata": {
      "byteLimit": 2048000,
      "rowLimit": 10000
     },
     "inputWidgets": {},
     "nuid": "33a9a3ab-e166-4230-b795-55496110b2ba",
     "showTitle": false,
     "tableResultSettingsMap": {},
     "title": ""
    }
   },
   "outputs": [],
   "source": []
  }
 ],
 "metadata": {
  "application/vnd.databricks.v1+notebook": {
   "computePreferences": null,
   "dashboards": [],
   "environmentMetadata": {
    "base_environment": "",
    "environment_version": "2"
   },
   "language": "python",
   "notebookMetadata": {
    "pythonIndentUnit": 4
   },
   "notebookName": "rag-modelling",
   "widgets": {}
  },
  "language_info": {
   "name": "python"
  }
 },
 "nbformat": 4,
 "nbformat_minor": 0
}
